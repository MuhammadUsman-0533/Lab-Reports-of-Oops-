{
 "cells": [
  {
   "cell_type": "markdown",
   "id": "e91e4a4a-5b76-4b56-9dd4-9f3f68cd26c5",
   "metadata": {},
   "source": [
    "## <center style = \"color: yellow;\">Muhammad usman</center>"
   ]
  },
  {
   "cell_type": "markdown",
   "id": "068925f2-8697-4ba8-a1a9-4182518511b2",
   "metadata": {},
   "source": [
    "## <center style = \"color: yellow;\">23jzele0533</center>"
   ]
  },
  {
   "cell_type": "markdown",
   "id": "4459e329-1315-45cf-8c20-aa3208c1192d",
   "metadata": {},
   "source": [
    "# <center style = \"color: yellow;\">Lab no 02  Report Tasks:</center>"
   ]
  },
  {
   "cell_type": "markdown",
   "id": "83b7dd3b-1217-4596-9c8c-fa9911e37e5b",
   "metadata": {},
   "source": [
    "# <center style = \"color: yellow;\">Function Definition</center>"
   ]
  },
  {
   "cell_type": "code",
   "execution_count": 2,
   "id": "175cee40-e1cc-4478-ad11-ea019d60aab5",
   "metadata": {},
   "outputs": [],
   "source": [
    "def calculate_voltage(current, resistance):\n",
    "    return current * resistance"
   ]
  },
  {
   "cell_type": "markdown",
   "id": "a139b7e6-9250-4d7a-b9df-8c59bf877140",
   "metadata": {},
   "source": [
    "#  <center style = \"color: yellow;\">a. Positional Arguments</center>"
   ]
  },
  {
   "cell_type": "code",
   "execution_count": 3,
   "id": "122fd356-35df-4063-a109-1f7ba064cba8",
   "metadata": {},
   "outputs": [
    {
     "name": "stdout",
     "output_type": "stream",
     "text": [
      "Voltage (Positional): 50\n"
     ]
    }
   ],
   "source": [
    "voltage_positional = calculate_voltage(5, 10)  # 5 A and 10 Ω\n",
    "print(\"Voltage (Positional):\", voltage_positional)\n"
   ]
  },
  {
   "cell_type": "markdown",
   "id": "a875ecb1-7630-4317-972c-dc75b9b8e48e",
   "metadata": {},
   "source": [
    "# <center style = \"color: yellow;\">b. Keyword Arguments</center>"
   ]
  },
  {
   "cell_type": "code",
   "execution_count": 4,
   "id": "5327e51c-031e-4967-9624-a2517908133f",
   "metadata": {},
   "outputs": [
    {
     "name": "stdout",
     "output_type": "stream",
     "text": [
      "Voltage (Keyword): 50\n"
     ]
    }
   ],
   "source": [
    "voltage_keyword = calculate_voltage(current=5, resistance=10)  # 5 A and 10 Ω\n",
    "print(\"Voltage (Keyword):\", voltage_keyword)\n"
   ]
  },
  {
   "cell_type": "markdown",
   "id": "232a1032-5179-4b62-bdfc-7e3e77f07bd6",
   "metadata": {},
   "source": [
    "# <center style = \"color: yellow;\">c. Default Arguments</center>"
   ]
  },
  {
   "cell_type": "code",
   "execution_count": 48,
   "id": "c7a3cc0e-2fa1-4244-9383-88dbc488bfc4",
   "metadata": {},
   "outputs": [
    {
     "name": "stdout",
     "output_type": "stream",
     "text": [
      "Voltage (Default): 1\n"
     ]
    }
   ],
   "source": [
    "def calculate_voltage_with_defaults(current=1, resistance=1):\n",
    "    return current * resistance\n",
    "\n",
    "# Call with default arguments\n",
    "voltage_default = calculate_voltage_with_defaults()  # Uses default values\n",
    "print(\"Voltage (Default):\", voltage_default)"
   ]
  },
  {
   "cell_type": "markdown",
   "id": "04013ff4-cf3e-40ae-8b59-c3b9baad4c6a",
   "metadata": {},
   "source": [
    "# <center style = \"color: yellow;\">d. Pass Arguments from One Style to Another</center>\n"
   ]
  },
  {
   "cell_type": "code",
   "execution_count": 51,
   "id": "723386d5-5a71-4f04-b528-fc13d183d9b6",
   "metadata": {},
   "outputs": [
    {
     "name": "stdout",
     "output_type": "stream",
     "text": [
      "Voltage from Positional to Default: 50\n",
      "Voltage from Keyword to Default: 50\n"
     ]
    }
   ],
   "source": [
    "# Using positional arguments\n",
    "voltage_from_positional = calculate_voltage_with_defaults(5, 10)\n",
    "print(\"Voltage from Positional to Default:\", voltage_from_positional)\n",
    "\n",
    "# Using keyword arguments\n",
    "voltage_from_keyword = calculate_voltage_with_defaults(current=5, resistance=10)\n",
    "print(\"Voltage from Keyword to Default:\", voltage_from_keyword)\n"
   ]
  },
  {
   "cell_type": "markdown",
   "id": "4a537b4d-5e12-4c4f-8184-bb1bc16e0049",
   "metadata": {},
   "source": [
    "# <center style = \"color: yellow;\">e. Passing Fewer Arguments and Checking Error Messages</center>\n"
   ]
  },
  {
   "cell_type": "code",
   "execution_count": 54,
   "id": "4f89bf45-ac5e-4002-be84-be1b5016a42f",
   "metadata": {},
   "outputs": [
    {
     "name": "stdout",
     "output_type": "stream",
     "text": [
      "Error message: calculate_voltage() missing 1 required positional argument: 'resistance'\n"
     ]
    }
   ],
   "source": [
    "try:\n",
    "    voltage_error = calculate_voltage(5)  # Only one argument\n",
    "except TypeError as e:\n",
    "    print(\"Error message:\", e)\n"
   ]
  },
  {
   "cell_type": "markdown",
   "id": "daf376fa-f944-41d7-97f7-f5d46fbe2392",
   "metadata": {},
   "source": [
    "# <center style = \"color: yellow;\">f. Verify That Positional Argument Follows Keyword Argument</center>\n"
   ]
  },
  {
   "cell_type": "code",
   "execution_count": 57,
   "id": "4d2d04da-86a9-413d-a0b9-dc05b4e21d9c",
   "metadata": {},
   "outputs": [
    {
     "ename": "SyntaxError",
     "evalue": "positional argument follows keyword argument (1120262285.py, line 2)",
     "output_type": "error",
     "traceback": [
      "\u001b[1;36m  Cell \u001b[1;32mIn[57], line 2\u001b[1;36m\u001b[0m\n\u001b[1;33m    voltage_invalid = calculate_voltage(current=5, 10)  # Incorrect order\u001b[0m\n\u001b[1;37m                                                     ^\u001b[0m\n\u001b[1;31mSyntaxError\u001b[0m\u001b[1;31m:\u001b[0m positional argument follows keyword argument\n"
     ]
    }
   ],
   "source": [
    "try:\n",
    "    voltage_invalid = calculate_voltage(current=5, 10)  # Incorrect order\n",
    "except SyntaxError as e:\n",
    "    print(\"Syntax Error message:\", e)\n"
   ]
  }
 ],
 "metadata": {
  "kernelspec": {
   "display_name": "Python 3 (ipykernel)",
   "language": "python",
   "name": "python3"
  },
  "language_info": {
   "codemirror_mode": {
    "name": "ipython",
    "version": 3
   },
   "file_extension": ".py",
   "mimetype": "text/x-python",
   "name": "python",
   "nbconvert_exporter": "python",
   "pygments_lexer": "ipython3",
   "version": "3.12.4"
  }
 },
 "nbformat": 4,
 "nbformat_minor": 5
}
